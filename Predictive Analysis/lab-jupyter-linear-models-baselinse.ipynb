{
 "cells": [
  {
   "cell_type": "markdown",
   "metadata": {},
   "source": [
    "<center>\n",
    "<img src=\"https://cf-courses-data.s3.us.cloud-object-storage.appdomain.cloud/IBMDeveloperSkillsNetwork-RP0321EN-SkillsNetwork/labs/module_1/images/SN_web_lightmode.png\" width=\"300\"> \n",
    "</center>\n"
   ]
  },
  {
   "cell_type": "markdown",
   "metadata": {},
   "source": [
    "<h1>Predict Hourly Rented Bike Count using Basic Linear Regression Models</h1>\n",
    "\n",
    "Estimated time needed: **90** minutes\n"
   ]
  },
  {
   "cell_type": "markdown",
   "metadata": {},
   "source": [
    "## Lab Overview:\n",
    "\n",
    "Now that you have performed exploratory analysis on the bike sharing demand dataset and obtained some insights on the attributes, it's time to build predictive models to predict the hourly rented bike count using related weather and date information.\n",
    "\n",
    "In this lab, you will be asked to use `tidymodels` to build some baseline linear regression models:\n",
    "- **TASK: Split data into training and testing datasets**\n",
    "- **TASK: Build a linear regression model using only the weather variables**\n",
    "- **TASK: Build a linear regression model using both weather and date variables**\n",
    "- **TASK: Evaluate the models and identify important variables**\n",
    "\n",
    "Let's start!\n"
   ]
  },
  {
   "cell_type": "markdown",
   "metadata": {},
   "source": [
    "The tidyverse and the tidymodels packages can be used to produce high quality statistical and machine learning models. The Tidyverse library is a useful tool that provides various tools for data visualization, data manipulation, and read various datasets into a data frame; our Jupyter notebook platforms have a built-in Tidymodels, Tidyverse and rlang libraries, so we do not need to install these packages prior to loading library. However, if you decide to run this lab on your RStudio Desktop locally on your machine, you can remove the commented lines of code to install these packages before loading.\n"
   ]
  },
  {
   "cell_type": "code",
   "execution_count": null,
   "metadata": {},
   "outputs": [],
   "source": [
    "# It may take several minutes to install those libraries in Watson Studio\n",
    "# install.packages(\"rlang\")\n",
    "# install.packages(\"tidymodels\")"
   ]
  },
  {
   "cell_type": "code",
   "execution_count": 1,
   "metadata": {
    "tags": []
   },
   "outputs": [
    {
     "name": "stderr",
     "output_type": "stream",
     "text": [
      "── Attaching packages ────────────────────────────────────── tidymodels 0.1.0 ──\n",
      "✔ broom     0.5.6      ✔ recipes   0.1.12\n",
      "✔ dials     0.0.6      ✔ rsample   0.0.5 \n",
      "✔ dplyr     0.8.5      ✔ tibble    3.0.1 \n",
      "✔ ggplot2   3.3.0      ✔ tune      0.1.0 \n",
      "✔ infer     0.5.1      ✔ workflows 0.1.1 \n",
      "✔ parsnip   0.1.0      ✔ yardstick 0.0.6 \n",
      "✔ purrr     0.3.4      \n",
      "── Conflicts ───────────────────────────────────────── tidymodels_conflicts() ──\n",
      "✖ purrr::discard()  masks scales::discard()\n",
      "✖ dplyr::filter()   masks stats::filter()\n",
      "✖ dplyr::lag()      masks stats::lag()\n",
      "✖ ggplot2::margin() masks dials::margin()\n",
      "✖ recipes::step()   masks stats::step()\n",
      "── Attaching packages ─────────────────────────────────────── tidyverse 1.3.0 ──\n",
      "✔ readr   1.3.1     ✔ forcats 0.5.0\n",
      "✔ stringr 1.4.0     \n",
      "── Conflicts ────────────────────────────────────────── tidyverse_conflicts() ──\n",
      "✖ readr::col_factor() masks scales::col_factor()\n",
      "✖ purrr::discard()    masks scales::discard()\n",
      "✖ dplyr::filter()     masks stats::filter()\n",
      "✖ stringr::fixed()    masks recipes::fixed()\n",
      "✖ dplyr::lag()        masks stats::lag()\n",
      "✖ ggplot2::margin()   masks dials::margin()\n",
      "✖ readr::spec()       masks yardstick::spec()\n"
     ]
    }
   ],
   "source": [
    "library(\"tidymodels\")\n",
    "library(\"tidyverse\")\n",
    "library(\"stringr\")"
   ]
  },
  {
   "cell_type": "markdown",
   "metadata": {},
   "source": [
    "The `seoul_bike_sharing_converted_normalized.csv` will be our main dataset which has following variables:\n",
    "\n",
    "The response variable:\n",
    "- `RENTED BIKE COUNT`- Count of bikes rented at each hour\n",
    "\n",
    "Weather predictor variables:\n",
    "- `TEMPERATURE` - Temperature in Celsius\n",
    "- `HUMIDITY` - Unit is `%`\n",
    "- `WIND_SPEED` - Unit is `m/s`\n",
    "- `VISIBILITY` - Multiplied by 10m\n",
    "- `DEW_POINT_TEMPERATURE` - The temperature to which the air would have to cool down in order to reach saturation, unit is Celsius\n",
    "- `SOLAR_RADIATION` - MJ/m2\n",
    "- `RAINFALL` - mm\n",
    "- `SNOWFALL` - cm\n",
    "\n",
    "Date/time predictor variables:\n",
    "- `DATE` - Year-month-day\n",
    "- `HOUR`- Hour of he day\n",
    "- `FUNCTIONAL DAY` - NoFunc(Non Functional Hours), Fun(Functional hours)\n",
    "- `HOLIDAY` - Holiday/No holiday\n",
    "- `SEASONS` - Winter, Spring, Summer, Autumn\n"
   ]
  },
  {
   "cell_type": "markdown",
   "metadata": {},
   "source": [
    "Let's read the dataset as a dataframe first:\n"
   ]
  },
  {
   "cell_type": "code",
   "execution_count": 2,
   "metadata": {
    "collapsed": true,
    "jupyter": {
     "outputs_hidden": true
    },
    "tags": []
   },
   "outputs": [
    {
     "name": "stderr",
     "output_type": "stream",
     "text": [
      "Parsed with column specification:\n",
      "cols(\n",
      "  .default = col_double(),\n",
      "  DATE = col_character(),\n",
      "  FUNCTIONING_DAY = col_character()\n",
      ")\n",
      "See spec(...) for full column specifications.\n"
     ]
    },
    {
     "data": {
      "text/plain": [
       "cols(\n",
       "  DATE = col_character(),\n",
       "  RENTED_BIKE_COUNT = col_double(),\n",
       "  TEMPERATURE = col_double(),\n",
       "  HUMIDITY = col_double(),\n",
       "  WIND_SPEED = col_double(),\n",
       "  VISIBILITY = col_double(),\n",
       "  DEW_POINT_TEMPERATURE = col_double(),\n",
       "  SOLAR_RADIATION = col_double(),\n",
       "  RAINFALL = col_double(),\n",
       "  SNOWFALL = col_double(),\n",
       "  FUNCTIONING_DAY = col_character(),\n",
       "  `0` = col_double(),\n",
       "  `1` = col_double(),\n",
       "  `10` = col_double(),\n",
       "  `11` = col_double(),\n",
       "  `12` = col_double(),\n",
       "  `13` = col_double(),\n",
       "  `14` = col_double(),\n",
       "  `15` = col_double(),\n",
       "  `16` = col_double(),\n",
       "  `17` = col_double(),\n",
       "  `18` = col_double(),\n",
       "  `19` = col_double(),\n",
       "  `2` = col_double(),\n",
       "  `20` = col_double(),\n",
       "  `21` = col_double(),\n",
       "  `22` = col_double(),\n",
       "  `23` = col_double(),\n",
       "  `3` = col_double(),\n",
       "  `4` = col_double(),\n",
       "  `5` = col_double(),\n",
       "  `6` = col_double(),\n",
       "  `7` = col_double(),\n",
       "  `8` = col_double(),\n",
       "  `9` = col_double(),\n",
       "  AUTUMN = col_double(),\n",
       "  SPRING = col_double(),\n",
       "  SUMMER = col_double(),\n",
       "  WINTER = col_double(),\n",
       "  HOLIDAY = col_double(),\n",
       "  NO_HOLIDAY = col_double()\n",
       ")"
      ]
     },
     "metadata": {},
     "output_type": "display_data"
    }
   ],
   "source": [
    "# Dataset URL\n",
    "dataset_url <- \"https://cf-courses-data.s3.us.cloud-object-storage.appdomain.cloud/IBMDeveloperSkillsNetwork-RP0321EN-SkillsNetwork/labs/datasets/seoul_bike_sharing_converted_normalized.csv\"\n",
    "bike_sharing_df <- read_csv(dataset_url)\n",
    "spec(bike_sharing_df)"
   ]
  },
  {
   "cell_type": "markdown",
   "metadata": {},
   "source": [
    "We won't be using the `DATE` column, because 'as is', it basically acts like an data entry index. (However, given more time, we could use the `DATE` colum to create a 'day of week' or 'isWeekend' column, which we might expect has an affect on preferred bike rental times.) We also do not need the `FUNCTIONAL DAY` column because it only has one distinct value remaining (`YES`) after missing value processing.\n"
   ]
  },
  {
   "cell_type": "code",
   "execution_count": 3,
   "metadata": {
    "tags": []
   },
   "outputs": [],
   "source": [
    "bike_sharing_df <- bike_sharing_df %>% \n",
    "                   select(-DATE, -FUNCTIONING_DAY)"
   ]
  },
  {
   "cell_type": "markdown",
   "metadata": {},
   "source": [
    "# TASK: Split training and testing data\n"
   ]
  },
  {
   "cell_type": "markdown",
   "metadata": {},
   "source": [
    "First, we need to split the full dataset into training and testing datasets.\n",
    "\n",
    "The training dataset will be used for fitting regression models, and the testing dataset will be used to evaluate the trained models.\n"
   ]
  },
  {
   "cell_type": "markdown",
   "metadata": {},
   "source": [
    "_TODO:_ Use the `initial_split()`, `training()`, and `testing()` functions to generate a training dataset consisting of 75% of the original dataset, and a testing dataset using the remaining 25%. \n"
   ]
  },
  {
   "cell_type": "code",
   "execution_count": 4,
   "metadata": {
    "tags": []
   },
   "outputs": [],
   "source": [
    "# Use the `initial_split()`, `training()`, and `testing()` functions to split the dataset\n",
    "# With seed 1234\n",
    "set.seed(1234)\n",
    "bike_data_split <- initial_split(bike_sharing_df, prop=0.75)\n",
    "train_data <- training(bike_data_split)\n",
    "test_data <- testing(bike_data_split)"
   ]
  },
  {
   "cell_type": "markdown",
   "metadata": {},
   "source": [
    "# TASK: Build a linear regression model using weather variables only\n"
   ]
  },
  {
   "cell_type": "markdown",
   "metadata": {},
   "source": [
    "As you could imagine, weather conditions may affect people's bike renting decisions. For example, on a cold and rainy day, you may choose alternate transportation such as a bus or taxi.  While on a nice sunny day, you may want to rent a bike for a short-distance travel.\n"
   ]
  },
  {
   "cell_type": "markdown",
   "metadata": {},
   "source": [
    "Thus, can we predict a city's bike-sharing demand based on its local weather information? Let's try to build a regression model to do that.\n"
   ]
  },
  {
   "cell_type": "markdown",
   "metadata": {},
   "source": [
    "_TODO:_ Build a linear regression model called `lm_model_weather` using the following variables:\n",
    "\n",
    "- `TEMPERATURE` - Temperature in Celsius\n",
    "- `HUMIDITY` - Unit is `%`\n",
    "- `WIND_SPEED` - Unit is `m/s`\n",
    "- `VISIBILITY` - Multiplied by 10m\n",
    "- `DEW_POINT_TEMPERATURE` - The temperature to which the air would have to cool down in order to reach saturation, unit is Celsius\n",
    "- `SOLAR_RADIATION` - MJ/m2\n",
    "- `RAINFALL` - mm\n",
    "- `SNOWFALL` - cm\n"
   ]
  },
  {
   "cell_type": "markdown",
   "metadata": {},
   "source": [
    "Define a linear regression model specification.\n"
   ]
  },
  {
   "cell_type": "code",
   "execution_count": 5,
   "metadata": {
    "tags": []
   },
   "outputs": [],
   "source": [
    "# Use `linear_reg()` with engine `lm` and mode `regression`\n",
    "\n",
    "# Linear regression\n",
    "lm_spec <- linear_reg() %>%\n",
    "  # Set engine'\n",
    "  set_engine(engine = \"lm\")"
   ]
  },
  {
   "cell_type": "markdown",
   "metadata": {},
   "source": [
    "Fit a model with the response variable `RENTED_BIKE_COUNT` and predictor variables `TEMPERATURE + HUMIDITY + WIND_SPEED + VISIBILITY + DEW_POINT_TEMPERATURE + SOLAR_RADIATION + RAINFALL + SNOWFALL`\n"
   ]
  },
  {
   "cell_type": "code",
   "execution_count": 6,
   "metadata": {
    "tags": []
   },
   "outputs": [],
   "source": [
    "# Fit the model with training data\n",
    "lm_model_weather <- lm_spec %>% \n",
    "  fit(RENTED_BIKE_COUNT ~ TEMPERATURE + HUMIDITY + WIND_SPEED + VISIBILITY + DEW_POINT_TEMPERATURE + SOLAR_RADIATION + RAINFALL + SNOWFALL, data = train_data)\n",
    "\n"
   ]
  },
  {
   "cell_type": "markdown",
   "metadata": {},
   "source": [
    "Print the fit summary for the `lm_model_weather` model.\n"
   ]
  },
  {
   "cell_type": "code",
   "execution_count": 7,
   "metadata": {
    "tags": []
   },
   "outputs": [
    {
     "name": "stdout",
     "output_type": "stream",
     "text": [
      "\n",
      "Call:\n",
      "stats::lm(formula = formula, data = data)\n",
      "\n",
      "Coefficients:\n",
      "          (Intercept)            TEMPERATURE               HUMIDITY  \n",
      "              147.647               2452.112               -895.830  \n",
      "           WIND_SPEED             VISIBILITY  DEW_POINT_TEMPERATURE  \n",
      "              402.183                  5.356               -368.982  \n",
      "      SOLAR_RADIATION               RAINFALL               SNOWFALL  \n",
      "             -435.703              -1771.467                354.761  \n",
      "\n"
     ]
    }
   ],
   "source": [
    "print(lm_model_weather$fit)"
   ]
  },
  {
   "cell_type": "markdown",
   "metadata": {},
   "source": [
    "You should see the model details such as formula, residuals, and coefficients.\n"
   ]
  },
  {
   "cell_type": "markdown",
   "metadata": {},
   "source": [
    "# TASK: Build a linear regression model using all variables\n"
   ]
  },
  {
   "cell_type": "markdown",
   "metadata": {},
   "source": [
    "In addition to weather, there could be other factors that may affect bike rental demand, such as the time of a day or if today is a holiday or not.\n"
   ]
  },
  {
   "cell_type": "markdown",
   "metadata": {},
   "source": [
    "Next, let's build a linear regression model using all variables (weather + date/time) in this task.\n"
   ]
  },
  {
   "cell_type": "markdown",
   "metadata": {},
   "source": [
    "_TODO:_ Build a linear regression model called `lm_model_all` using all variables `RENTED_BIKE_COUNT ~ .`\n"
   ]
  },
  {
   "cell_type": "code",
   "execution_count": 8,
   "metadata": {
    "tags": []
   },
   "outputs": [],
   "source": [
    "# Fit the model called `lm_model_all`\n",
    "# `RENTED_BIKE_COUNT ~ .` means use all other variables except for the response variable\n",
    "lm_model_all = lm_spec %>% \n",
    "  fit(RENTED_BIKE_COUNT ~ ., data = train_data)"
   ]
  },
  {
   "cell_type": "markdown",
   "metadata": {},
   "source": [
    "Print the fit summary for `lm_model_all`.\n"
   ]
  },
  {
   "cell_type": "code",
   "execution_count": 9,
   "metadata": {
    "tags": []
   },
   "outputs": [
    {
     "data": {
      "text/plain": [
       "\n",
       "Call:\n",
       "stats::lm(formula = formula, data = data)\n",
       "\n",
       "Residuals:\n",
       "     Min       1Q   Median       3Q      Max \n",
       "-1390.19  -220.95    -9.08   202.68  1774.61 \n",
       "\n",
       "Coefficients: (3 not defined because of singularities)\n",
       "                       Estimate Std. Error t value Pr(>|t|)    \n",
       "(Intercept)             216.584     50.673   4.274 1.95e-05 ***\n",
       "TEMPERATURE             810.604    209.034   3.878 0.000106 ***\n",
       "HUMIDITY               -920.587     97.243  -9.467  < 2e-16 ***\n",
       "WIND_SPEED               -9.313     40.268  -0.231 0.817101    \n",
       "VISIBILITY               24.368     20.235   1.204 0.228533    \n",
       "DEW_POINT_TEMPERATURE   632.384    217.478   2.908 0.003652 ** \n",
       "SOLAR_RADIATION         249.752     41.347   6.040 1.62e-09 ***\n",
       "RAINFALL              -1982.940    143.642 -13.805  < 2e-16 ***\n",
       "SNOWFALL                232.451    104.609   2.222 0.026312 *  \n",
       "`0`                     -12.500     34.010  -0.368 0.713234    \n",
       "`1`                    -125.701     34.579  -3.635 0.000280 ***\n",
       "`10`                   -222.233     33.316  -6.671 2.76e-11 ***\n",
       "`11`                   -231.428     33.981  -6.811 1.06e-11 ***\n",
       "`12`                   -194.605     34.559  -5.631 1.87e-08 ***\n",
       "`13`                   -189.528     35.199  -5.385 7.53e-08 ***\n",
       "`14`                   -183.060     35.246  -5.194 2.12e-07 ***\n",
       "`15`                   -103.127     35.096  -2.938 0.003311 ** \n",
       "`16`                     43.598     34.230   1.274 0.202829    \n",
       "`17`                    306.732     34.272   8.950  < 2e-16 ***\n",
       "`18`                    782.842     34.512  22.683  < 2e-16 ***\n",
       "`19`                    519.456     34.541  15.039  < 2e-16 ***\n",
       "`2`                    -259.946     34.575  -7.518 6.32e-14 ***\n",
       "`20`                    394.635     34.729  11.363  < 2e-16 ***\n",
       "`21`                    430.185     34.337  12.528  < 2e-16 ***\n",
       "`22`                    322.664     33.935   9.508  < 2e-16 ***\n",
       "`23`                     90.181     33.974   2.654 0.007965 ** \n",
       "`3`                    -327.245     33.890  -9.656  < 2e-16 ***\n",
       "`4`                    -389.558     34.033 -11.447  < 2e-16 ***\n",
       "`5`                    -379.055     33.818 -11.209  < 2e-16 ***\n",
       "`6`                    -216.689     34.166  -6.342 2.42e-10 ***\n",
       "`7`                     110.492     33.930   3.256 0.001134 ** \n",
       "`8`                     502.354     33.506  14.993  < 2e-16 ***\n",
       "`9`                          NA         NA      NA       NA    \n",
       "AUTUMN                  357.978     19.997  17.902  < 2e-16 ***\n",
       "SPRING                  194.421     19.218  10.117  < 2e-16 ***\n",
       "SUMMER                  172.901     29.043   5.953 2.77e-09 ***\n",
       "WINTER                       NA         NA      NA       NA    \n",
       "HOLIDAY                -129.167     22.447  -5.754 9.11e-09 ***\n",
       "NO_HOLIDAY                   NA         NA      NA       NA    \n",
       "---\n",
       "Signif. codes:  0 ‘***’ 0.001 ‘**’ 0.01 ‘*’ 0.05 ‘.’ 0.1 ‘ ’ 1\n",
       "\n",
       "Residual standard error: 376.4 on 6313 degrees of freedom\n",
       "Multiple R-squared:  0.6622,\tAdjusted R-squared:  0.6603 \n",
       "F-statistic: 353.5 on 35 and 6313 DF,  p-value: < 2.2e-16\n"
      ]
     },
     "metadata": {},
     "output_type": "display_data"
    }
   ],
   "source": [
    "summary(lm_model_all$fit)"
   ]
  },
  {
   "cell_type": "markdown",
   "metadata": {},
   "source": [
    "Now you have built two basic linear regression models with different predictor variables, let's evaluate which model has better performance,\n"
   ]
  },
  {
   "cell_type": "markdown",
   "metadata": {},
   "source": [
    "# TASK: Model evaluation and identification of important variables\n"
   ]
  },
  {
   "cell_type": "markdown",
   "metadata": {},
   "source": [
    "Now that you have built two regression models, `lm_model_weather` and `lm_model_all`, with different predictor variables, you need to compare their performance to see which one is better.\n"
   ]
  },
  {
   "cell_type": "markdown",
   "metadata": {},
   "source": [
    "In this project, you will be asked to use very important metrics that are often used in Statistics to determine the performance of a model:\n",
    "\n",
    "1.  R^2 / R-squared \n",
    "2.  Root Mean Squared Error (RMSE)\n",
    "\n",
    "**R-squared**\n",
    "\n",
    "<p>R squared, also known as the coefficient of determination, is a measure to indicate how close the data is to the fitted regression line. The value of R-squared is the percentage of variation of the response variable (y) that is explained by a linear model.</p>\n",
    "\n",
    "**Root Mean Squared Error (RMSE)**\n",
    "$$\n",
    "RMSE = \\sqrt{MSE}\n",
    "$$\n",
    "\n",
    "As you know, the Mean Squared Error measures the average of the squares of errors, where 'error' is the difference between the actual value ($y$) and the estimated value ($ŷ$). \n",
    "Another metric that is related to MSE is **Root Mean Squared Error (RMSE)** and is simply the square root of MSE.\n"
   ]
  },
  {
   "cell_type": "markdown",
   "metadata": {},
   "source": [
    "We first need to test the `lm_model_weather` and `lm_model_all` models against the test dataset `test_data`, and generate `RENTED_BIKE_COUNT` prediction results.\n"
   ]
  },
  {
   "cell_type": "markdown",
   "metadata": {},
   "source": [
    "_TODO:_ Make predictions on the testing dataset using both `lm_model_weather` and `lm_model_all` models\n"
   ]
  },
  {
   "cell_type": "code",
   "execution_count": 10,
   "metadata": {
    "tags": []
   },
   "outputs": [
    {
     "name": "stderr",
     "output_type": "stream",
     "text": [
      "Warning message in predict.lm(object = object$fit, newdata = new_data, type = \"response\"):\n",
      "“prediction from a rank-deficient fit may be misleading”"
     ]
    }
   ],
   "source": [
    "# Use predict() function to generate test results for `lm_model_weather` and `lm_model_all`\n",
    "# and generate two test results dataframe with a truth column:\n",
    "\n",
    "\n",
    "# test_results_weather for lm_model_weather model\n",
    "model_weather_test_results <- lm_model_weather %>%\n",
    "  # Make the predictions and save the predicted values\n",
    "  predict(new_data = test_data) %>%\n",
    "  # Create a new column to save the true values\n",
    "  mutate(truth = test_data$RENTED_BIKE_COUNT)\n",
    "\n",
    "# test_results_all for lm_model_all\n",
    "model_all_test_results <- lm_model_all %>%\n",
    "  # Make the predictions and save the predicted values\n",
    "  predict(new_data = test_data) %>%\n",
    "  # Create a new column to save the true values\n",
    "  mutate(truth = test_data$RENTED_BIKE_COUNT)"
   ]
  },
  {
   "cell_type": "markdown",
   "metadata": {},
   "source": [
    "NOTE: if you happen to see a warning like : `prediction from a rank-deficient fit may be misleading`, it may be casued by collinearity in the predictor variables. Collinearity means that one predictor variable can be predicted from other predictor variables to some degree. For example, `RAINFALL` could be predicted by `HUMIDITY`.\n",
    "\n",
    "But dont worry, you will address `glmnet` models (Lasso and Elastic-Net Regularized Generalized Linear Models) instead of regular `regression` models to solve this issue and futher improve the model performance.\n"
   ]
  },
  {
   "cell_type": "markdown",
   "metadata": {},
   "source": [
    "Next, let's calculate and print the R-squared and RMSE for the two test results\n"
   ]
  },
  {
   "cell_type": "markdown",
   "metadata": {},
   "source": [
    "_TODO:_ Use `rsq()` and `rmse()` functions to calculate R-squared and RMSE metrics for the two test results\n"
   ]
  },
  {
   "cell_type": "code",
   "execution_count": 11,
   "metadata": {
    "tags": []
   },
   "outputs": [],
   "source": [
    "rsq_weather <- rsq(model_weather_test_results, truth = truth,\n",
    "                  estimate = .pred)\n",
    "rsq_all <- rsq(model_all_test_results, truth = truth,\n",
    "                  estimate = .pred)\n",
    "\n",
    "rmse_weather <- rmse(model_weather_test_results, truth = truth,\n",
    "                   estimate = .pred)\n",
    "rmse_all <- rmse(model_all_test_results, truth = truth,\n",
    "                  estimate = .pred)"
   ]
  },
  {
   "cell_type": "markdown",
   "metadata": {},
   "source": [
    "From these tables, you should find that the test results from `lm_model_all` are much better. It means that using both weather and datetime variables in the model generates better prediction results.\n"
   ]
  },
  {
   "cell_type": "markdown",
   "metadata": {},
   "source": [
    "Since `lm_model_all` has many predictor variables, let's check which predictor variables have larger coefficients. Variables with larger coefficients in the model means they attribute more in the prediction of `RENTED_BIKE_COUNT`. In addition, since all predictor variables are normalized to the same scale, 0 to 1, we thus can compare their coefficients directly.\n"
   ]
  },
  {
   "cell_type": "markdown",
   "metadata": {},
   "source": [
    "You could try building another regression model using the non-normalized `seoul_bike_sharing_converted.csv` dataset, and you would find that the coefficients are much different.\n"
   ]
  },
  {
   "cell_type": "markdown",
   "metadata": {},
   "source": [
    "First let's print all coefficients:\n"
   ]
  },
  {
   "cell_type": "code",
   "execution_count": 12,
   "metadata": {
    "tags": []
   },
   "outputs": [
    {
     "data": {
      "text/html": [
       "<style>\n",
       ".dl-inline {width: auto; margin:0; padding: 0}\n",
       ".dl-inline>dt, .dl-inline>dd {float: none; width: auto; display: inline-block}\n",
       ".dl-inline>dt::after {content: \":\\0020\"; padding-right: .5ex}\n",
       ".dl-inline>dt:not(:first-of-type) {padding-left: .5ex}\n",
       "</style><dl class=dl-inline><dt>(Intercept)</dt><dd>216.584058520425</dd><dt>TEMPERATURE</dt><dd>810.603986705408</dd><dt>HUMIDITY</dt><dd>-920.586909252077</dd><dt>WIND_SPEED</dt><dd>-9.31331872226891</dd><dt>VISIBILITY</dt><dd>24.3680486652167</dd><dt>DEW_POINT_TEMPERATURE</dt><dd>632.384298001056</dd><dt>SOLAR_RADIATION</dt><dd>249.752454216444</dd><dt>RAINFALL</dt><dd>-1982.94042307599</dd><dt>SNOWFALL</dt><dd>232.450789844669</dd><dt>`0`</dt><dd>-12.4998037292523</dd><dt>`1`</dt><dd>-125.701499472983</dd><dt>`10`</dt><dd>-222.233261805256</dd><dt>`11`</dt><dd>-231.428410797234</dd><dt>`12`</dt><dd>-194.605041418871</dd><dt>`13`</dt><dd>-189.528425634735</dd><dt>`14`</dt><dd>-183.060291143358</dd><dt>`15`</dt><dd>-103.126884840928</dd><dt>`16`</dt><dd>43.597895314446</dd><dt>`17`</dt><dd>306.732435423589</dd><dt>`18`</dt><dd>782.84150725653</dd><dt>`19`</dt><dd>519.455508376907</dd><dt>`2`</dt><dd>-259.946174337005</dd><dt>`20`</dt><dd>394.634675841615</dd><dt>`21`</dt><dd>430.185214830003</dd><dt>`22`</dt><dd>322.663948586527</dd><dt>`23`</dt><dd>90.1808026195376</dd><dt>`3`</dt><dd>-327.244954867547</dd><dt>`4`</dt><dd>-389.558392056447</dd><dt>`5`</dt><dd>-379.055208923381</dd><dt>`6`</dt><dd>-216.689105145966</dd><dt>`7`</dt><dd>110.491958873144</dd><dt>`8`</dt><dd>502.353807713109</dd><dt>`9`</dt><dd>&lt;NA&gt;</dd><dt>AUTUMN</dt><dd>357.978264973985</dd><dt>SPRING</dt><dd>194.421437093438</dd><dt>SUMMER</dt><dd>172.901302381773</dd><dt>WINTER</dt><dd>&lt;NA&gt;</dd><dt>HOLIDAY</dt><dd>-129.167077549417</dd><dt>NO_HOLIDAY</dt><dd>&lt;NA&gt;</dd></dl>\n"
      ],
      "text/latex": [
       "\\begin{description*}\n",
       "\\item[(Intercept)] 216.584058520425\n",
       "\\item[TEMPERATURE] 810.603986705408\n",
       "\\item[HUMIDITY] -920.586909252077\n",
       "\\item[WIND\\textbackslash{}\\_SPEED] -9.31331872226891\n",
       "\\item[VISIBILITY] 24.3680486652167\n",
       "\\item[DEW\\textbackslash{}\\_POINT\\textbackslash{}\\_TEMPERATURE] 632.384298001056\n",
       "\\item[SOLAR\\textbackslash{}\\_RADIATION] 249.752454216444\n",
       "\\item[RAINFALL] -1982.94042307599\n",
       "\\item[SNOWFALL] 232.450789844669\n",
       "\\item[`0`] -12.4998037292523\n",
       "\\item[`1`] -125.701499472983\n",
       "\\item[`10`] -222.233261805256\n",
       "\\item[`11`] -231.428410797234\n",
       "\\item[`12`] -194.605041418871\n",
       "\\item[`13`] -189.528425634735\n",
       "\\item[`14`] -183.060291143358\n",
       "\\item[`15`] -103.126884840928\n",
       "\\item[`16`] 43.597895314446\n",
       "\\item[`17`] 306.732435423589\n",
       "\\item[`18`] 782.84150725653\n",
       "\\item[`19`] 519.455508376907\n",
       "\\item[`2`] -259.946174337005\n",
       "\\item[`20`] 394.634675841615\n",
       "\\item[`21`] 430.185214830003\n",
       "\\item[`22`] 322.663948586527\n",
       "\\item[`23`] 90.1808026195376\n",
       "\\item[`3`] -327.244954867547\n",
       "\\item[`4`] -389.558392056447\n",
       "\\item[`5`] -379.055208923381\n",
       "\\item[`6`] -216.689105145966\n",
       "\\item[`7`] 110.491958873144\n",
       "\\item[`8`] 502.353807713109\n",
       "\\item[`9`] <NA>\n",
       "\\item[AUTUMN] 357.978264973985\n",
       "\\item[SPRING] 194.421437093438\n",
       "\\item[SUMMER] 172.901302381773\n",
       "\\item[WINTER] <NA>\n",
       "\\item[HOLIDAY] -129.167077549417\n",
       "\\item[NO\\textbackslash{}\\_HOLIDAY] <NA>\n",
       "\\end{description*}\n"
      ],
      "text/markdown": [
       "(Intercept)\n",
       ":   216.584058520425TEMPERATURE\n",
       ":   810.603986705408HUMIDITY\n",
       ":   -920.586909252077WIND_SPEED\n",
       ":   -9.31331872226891VISIBILITY\n",
       ":   24.3680486652167DEW_POINT_TEMPERATURE\n",
       ":   632.384298001056SOLAR_RADIATION\n",
       ":   249.752454216444RAINFALL\n",
       ":   -1982.94042307599SNOWFALL\n",
       ":   232.450789844669`0`\n",
       ":   -12.4998037292523`1`\n",
       ":   -125.701499472983`10`\n",
       ":   -222.233261805256`11`\n",
       ":   -231.428410797234`12`\n",
       ":   -194.605041418871`13`\n",
       ":   -189.528425634735`14`\n",
       ":   -183.060291143358`15`\n",
       ":   -103.126884840928`16`\n",
       ":   43.597895314446`17`\n",
       ":   306.732435423589`18`\n",
       ":   782.84150725653`19`\n",
       ":   519.455508376907`2`\n",
       ":   -259.946174337005`20`\n",
       ":   394.634675841615`21`\n",
       ":   430.185214830003`22`\n",
       ":   322.663948586527`23`\n",
       ":   90.1808026195376`3`\n",
       ":   -327.244954867547`4`\n",
       ":   -389.558392056447`5`\n",
       ":   -379.055208923381`6`\n",
       ":   -216.689105145966`7`\n",
       ":   110.491958873144`8`\n",
       ":   502.353807713109`9`\n",
       ":   &lt;NA&gt;AUTUMN\n",
       ":   357.978264973985SPRING\n",
       ":   194.421437093438SUMMER\n",
       ":   172.901302381773WINTER\n",
       ":   &lt;NA&gt;HOLIDAY\n",
       ":   -129.167077549417NO_HOLIDAY\n",
       ":   &lt;NA&gt;\n",
       "\n"
      ],
      "text/plain": [
       "          (Intercept)           TEMPERATURE              HUMIDITY \n",
       "           216.584059            810.603987           -920.586909 \n",
       "           WIND_SPEED            VISIBILITY DEW_POINT_TEMPERATURE \n",
       "            -9.313319             24.368049            632.384298 \n",
       "      SOLAR_RADIATION              RAINFALL              SNOWFALL \n",
       "           249.752454          -1982.940423            232.450790 \n",
       "                  `0`                   `1`                  `10` \n",
       "           -12.499804           -125.701499           -222.233262 \n",
       "                 `11`                  `12`                  `13` \n",
       "          -231.428411           -194.605041           -189.528426 \n",
       "                 `14`                  `15`                  `16` \n",
       "          -183.060291           -103.126885             43.597895 \n",
       "                 `17`                  `18`                  `19` \n",
       "           306.732435            782.841507            519.455508 \n",
       "                  `2`                  `20`                  `21` \n",
       "          -259.946174            394.634676            430.185215 \n",
       "                 `22`                  `23`                   `3` \n",
       "           322.663949             90.180803           -327.244955 \n",
       "                  `4`                   `5`                   `6` \n",
       "          -389.558392           -379.055209           -216.689105 \n",
       "                  `7`                   `8`                   `9` \n",
       "           110.491959            502.353808                    NA \n",
       "               AUTUMN                SPRING                SUMMER \n",
       "           357.978265            194.421437            172.901302 \n",
       "               WINTER               HOLIDAY            NO_HOLIDAY \n",
       "                   NA           -129.167078                    NA "
      ]
     },
     "metadata": {},
     "output_type": "display_data"
    }
   ],
   "source": [
    "lm_model_all$fit$coefficients"
   ]
  },
  {
   "cell_type": "markdown",
   "metadata": {},
   "source": [
    "hmm, it's not very clear to compare the coefficients from a long and unsorted list. Next, you need to sort and visualize them using a bar chart\n"
   ]
  },
  {
   "cell_type": "markdown",
   "metadata": {},
   "source": [
    "_TODO:_ Sort the coefficient list in descending order and visualize the result using `ggplot` and `geom_bar` \n"
   ]
  },
  {
   "cell_type": "code",
   "execution_count": 13,
   "metadata": {
    "tags": []
   },
   "outputs": [],
   "source": [
    "# Sort coefficient list\n",
    "sorted_coefficients = sort(lm_model_all$fit$coefficients, decreasing = TRUE)"
   ]
  },
  {
   "cell_type": "code",
   "execution_count": 14,
   "metadata": {
    "tags": []
   },
   "outputs": [
    {
     "data": {
      "text/html": [
       "<style>\n",
       ".dl-inline {width: auto; margin:0; padding: 0}\n",
       ".dl-inline>dt, .dl-inline>dd {float: none; width: auto; display: inline-block}\n",
       ".dl-inline>dt::after {content: \":\\0020\"; padding-right: .5ex}\n",
       ".dl-inline>dt:not(:first-of-type) {padding-left: .5ex}\n",
       "</style><dl class=dl-inline><dt>TEMPERATURE</dt><dd>810.603986705408</dd><dt>`18`</dt><dd>782.84150725653</dd><dt>DEW_POINT_TEMPERATURE</dt><dd>632.384298001056</dd><dt>`19`</dt><dd>519.455508376907</dd><dt>`8`</dt><dd>502.353807713109</dd><dt>`21`</dt><dd>430.185214830003</dd><dt>`20`</dt><dd>394.634675841615</dd><dt>AUTUMN</dt><dd>357.978264973985</dd><dt>`22`</dt><dd>322.663948586527</dd><dt>`17`</dt><dd>306.732435423589</dd><dt>SOLAR_RADIATION</dt><dd>249.752454216444</dd><dt>SNOWFALL</dt><dd>232.450789844669</dd><dt>(Intercept)</dt><dd>216.584058520425</dd><dt>SPRING</dt><dd>194.421437093438</dd><dt>SUMMER</dt><dd>172.901302381773</dd><dt>`7`</dt><dd>110.491958873144</dd><dt>`23`</dt><dd>90.1808026195376</dd><dt>`16`</dt><dd>43.597895314446</dd><dt>VISIBILITY</dt><dd>24.3680486652167</dd><dt>WIND_SPEED</dt><dd>-9.31331872226891</dd><dt>`0`</dt><dd>-12.4998037292523</dd><dt>`15`</dt><dd>-103.126884840928</dd><dt>`1`</dt><dd>-125.701499472983</dd><dt>HOLIDAY</dt><dd>-129.167077549417</dd><dt>`14`</dt><dd>-183.060291143358</dd><dt>`13`</dt><dd>-189.528425634735</dd><dt>`12`</dt><dd>-194.605041418871</dd><dt>`6`</dt><dd>-216.689105145966</dd><dt>`10`</dt><dd>-222.233261805256</dd><dt>`11`</dt><dd>-231.428410797234</dd><dt>`2`</dt><dd>-259.946174337005</dd><dt>`3`</dt><dd>-327.244954867547</dd><dt>`5`</dt><dd>-379.055208923381</dd><dt>`4`</dt><dd>-389.558392056447</dd><dt>HUMIDITY</dt><dd>-920.586909252077</dd><dt>RAINFALL</dt><dd>-1982.94042307599</dd></dl>\n"
      ],
      "text/latex": [
       "\\begin{description*}\n",
       "\\item[TEMPERATURE] 810.603986705408\n",
       "\\item[`18`] 782.84150725653\n",
       "\\item[DEW\\textbackslash{}\\_POINT\\textbackslash{}\\_TEMPERATURE] 632.384298001056\n",
       "\\item[`19`] 519.455508376907\n",
       "\\item[`8`] 502.353807713109\n",
       "\\item[`21`] 430.185214830003\n",
       "\\item[`20`] 394.634675841615\n",
       "\\item[AUTUMN] 357.978264973985\n",
       "\\item[`22`] 322.663948586527\n",
       "\\item[`17`] 306.732435423589\n",
       "\\item[SOLAR\\textbackslash{}\\_RADIATION] 249.752454216444\n",
       "\\item[SNOWFALL] 232.450789844669\n",
       "\\item[(Intercept)] 216.584058520425\n",
       "\\item[SPRING] 194.421437093438\n",
       "\\item[SUMMER] 172.901302381773\n",
       "\\item[`7`] 110.491958873144\n",
       "\\item[`23`] 90.1808026195376\n",
       "\\item[`16`] 43.597895314446\n",
       "\\item[VISIBILITY] 24.3680486652167\n",
       "\\item[WIND\\textbackslash{}\\_SPEED] -9.31331872226891\n",
       "\\item[`0`] -12.4998037292523\n",
       "\\item[`15`] -103.126884840928\n",
       "\\item[`1`] -125.701499472983\n",
       "\\item[HOLIDAY] -129.167077549417\n",
       "\\item[`14`] -183.060291143358\n",
       "\\item[`13`] -189.528425634735\n",
       "\\item[`12`] -194.605041418871\n",
       "\\item[`6`] -216.689105145966\n",
       "\\item[`10`] -222.233261805256\n",
       "\\item[`11`] -231.428410797234\n",
       "\\item[`2`] -259.946174337005\n",
       "\\item[`3`] -327.244954867547\n",
       "\\item[`5`] -379.055208923381\n",
       "\\item[`4`] -389.558392056447\n",
       "\\item[HUMIDITY] -920.586909252077\n",
       "\\item[RAINFALL] -1982.94042307599\n",
       "\\end{description*}\n"
      ],
      "text/markdown": [
       "TEMPERATURE\n",
       ":   810.603986705408`18`\n",
       ":   782.84150725653DEW_POINT_TEMPERATURE\n",
       ":   632.384298001056`19`\n",
       ":   519.455508376907`8`\n",
       ":   502.353807713109`21`\n",
       ":   430.185214830003`20`\n",
       ":   394.634675841615AUTUMN\n",
       ":   357.978264973985`22`\n",
       ":   322.663948586527`17`\n",
       ":   306.732435423589SOLAR_RADIATION\n",
       ":   249.752454216444SNOWFALL\n",
       ":   232.450789844669(Intercept)\n",
       ":   216.584058520425SPRING\n",
       ":   194.421437093438SUMMER\n",
       ":   172.901302381773`7`\n",
       ":   110.491958873144`23`\n",
       ":   90.1808026195376`16`\n",
       ":   43.597895314446VISIBILITY\n",
       ":   24.3680486652167WIND_SPEED\n",
       ":   -9.31331872226891`0`\n",
       ":   -12.4998037292523`15`\n",
       ":   -103.126884840928`1`\n",
       ":   -125.701499472983HOLIDAY\n",
       ":   -129.167077549417`14`\n",
       ":   -183.060291143358`13`\n",
       ":   -189.528425634735`12`\n",
       ":   -194.605041418871`6`\n",
       ":   -216.689105145966`10`\n",
       ":   -222.233261805256`11`\n",
       ":   -231.428410797234`2`\n",
       ":   -259.946174337005`3`\n",
       ":   -327.244954867547`5`\n",
       ":   -379.055208923381`4`\n",
       ":   -389.558392056447HUMIDITY\n",
       ":   -920.586909252077RAINFALL\n",
       ":   -1982.94042307599\n",
       "\n"
      ],
      "text/plain": [
       "          TEMPERATURE                  `18` DEW_POINT_TEMPERATURE \n",
       "           810.603987            782.841507            632.384298 \n",
       "                 `19`                   `8`                  `21` \n",
       "           519.455508            502.353808            430.185215 \n",
       "                 `20`                AUTUMN                  `22` \n",
       "           394.634676            357.978265            322.663949 \n",
       "                 `17`       SOLAR_RADIATION              SNOWFALL \n",
       "           306.732435            249.752454            232.450790 \n",
       "          (Intercept)                SPRING                SUMMER \n",
       "           216.584059            194.421437            172.901302 \n",
       "                  `7`                  `23`                  `16` \n",
       "           110.491959             90.180803             43.597895 \n",
       "           VISIBILITY            WIND_SPEED                   `0` \n",
       "            24.368049             -9.313319            -12.499804 \n",
       "                 `15`                   `1`               HOLIDAY \n",
       "          -103.126885           -125.701499           -129.167078 \n",
       "                 `14`                  `13`                  `12` \n",
       "          -183.060291           -189.528426           -194.605041 \n",
       "                  `6`                  `10`                  `11` \n",
       "          -216.689105           -222.233262           -231.428411 \n",
       "                  `2`                   `3`                   `5` \n",
       "          -259.946174           -327.244955           -379.055209 \n",
       "                  `4`              HUMIDITY              RAINFALL \n",
       "          -389.558392           -920.586909          -1982.940423 "
      ]
     },
     "metadata": {},
     "output_type": "display_data"
    }
   ],
   "source": [
    "sorted_coefficients"
   ]
  },
  {
   "cell_type": "code",
   "execution_count": 18,
   "metadata": {
    "tags": []
   },
   "outputs": [],
   "source": [
    "# Create a data frame for ggplot2\n",
    "data_1 <- data.frame(Name = names(sorted_coefficients), Values = sorted_coefficients)"
   ]
  },
  {
   "cell_type": "code",
   "execution_count": 15,
   "metadata": {
    "tags": []
   },
   "outputs": [],
   "source": [
    "# Create a data frame with absolute values for ggplot2\n",
    "data <- data.frame(Name = names(sorted_coefficients), Values = abs(sorted_coefficients))"
   ]
  },
  {
   "cell_type": "code",
   "execution_count": 16,
   "metadata": {
    "tags": []
   },
   "outputs": [
    {
     "data": {
      "text/html": [
       "<table>\n",
       "<caption>A data.frame: 6 × 2</caption>\n",
       "<thead>\n",
       "\t<tr><th></th><th scope=col>Name</th><th scope=col>Values</th></tr>\n",
       "\t<tr><th></th><th scope=col>&lt;fct&gt;</th><th scope=col>&lt;dbl&gt;</th></tr>\n",
       "</thead>\n",
       "<tbody>\n",
       "\t<tr><th scope=row>TEMPERATURE</th><td>TEMPERATURE          </td><td>810.6040</td></tr>\n",
       "\t<tr><th scope=row>`18`</th><td>`18`                 </td><td>782.8415</td></tr>\n",
       "\t<tr><th scope=row>DEW_POINT_TEMPERATURE</th><td>DEW_POINT_TEMPERATURE</td><td>632.3843</td></tr>\n",
       "\t<tr><th scope=row>`19`</th><td>`19`                 </td><td>519.4555</td></tr>\n",
       "\t<tr><th scope=row>`8`</th><td>`8`                  </td><td>502.3538</td></tr>\n",
       "\t<tr><th scope=row>`21`</th><td>`21`                 </td><td>430.1852</td></tr>\n",
       "</tbody>\n",
       "</table>\n"
      ],
      "text/latex": [
       "A data.frame: 6 × 2\n",
       "\\begin{tabular}{r|ll}\n",
       "  & Name & Values\\\\\n",
       "  & <fct> & <dbl>\\\\\n",
       "\\hline\n",
       "\tTEMPERATURE & TEMPERATURE           & 810.6040\\\\\n",
       "\t`18` & `18`                  & 782.8415\\\\\n",
       "\tDEW\\_POINT\\_TEMPERATURE & DEW\\_POINT\\_TEMPERATURE & 632.3843\\\\\n",
       "\t`19` & `19`                  & 519.4555\\\\\n",
       "\t`8` & `8`                   & 502.3538\\\\\n",
       "\t`21` & `21`                  & 430.1852\\\\\n",
       "\\end{tabular}\n"
      ],
      "text/markdown": [
       "\n",
       "A data.frame: 6 × 2\n",
       "\n",
       "| <!--/--> | Name &lt;fct&gt; | Values &lt;dbl&gt; |\n",
       "|---|---|---|\n",
       "| TEMPERATURE | TEMPERATURE           | 810.6040 |\n",
       "| `18` | `18`                  | 782.8415 |\n",
       "| DEW_POINT_TEMPERATURE | DEW_POINT_TEMPERATURE | 632.3843 |\n",
       "| `19` | `19`                  | 519.4555 |\n",
       "| `8` | `8`                   | 502.3538 |\n",
       "| `21` | `21`                  | 430.1852 |\n",
       "\n"
      ],
      "text/plain": [
       "                      Name                  Values  \n",
       "TEMPERATURE           TEMPERATURE           810.6040\n",
       "`18`                  `18`                  782.8415\n",
       "DEW_POINT_TEMPERATURE DEW_POINT_TEMPERATURE 632.3843\n",
       "`19`                  `19`                  519.4555\n",
       "`8`                   `8`                   502.3538\n",
       "`21`                  `21`                  430.1852"
      ]
     },
     "metadata": {},
     "output_type": "display_data"
    }
   ],
   "source": [
    "head(data)"
   ]
  },
  {
   "cell_type": "code",
   "execution_count": 20,
   "metadata": {
    "tags": []
   },
   "outputs": [
    {
     "data": {},
     "metadata": {},
     "output_type": "display_data"
    },
    {
     "data": {
      "image/png": "[encoded data removed]",
      "text/plain": [
       "plot without title"
      ]
     },
     "metadata": {},
     "output_type": "display_data",
     "source": "R display func"
    }
   ],
   "source": [
    "# Visualize the list with absolute value using ggplot and geom_bar\n",
    "ggplot(data, aes(x = Values, y = reorder(Name, Values))) +\n",
    "  geom_bar(stat = \"identity\", fill = \"blue\") +\n",
    "  labs(title = \"Horizontal Bar Chart\", x = \"Values\", y = \"Index\") +\n",
    "  theme_minimal()"
   ]
  },
  {
   "cell_type": "code",
   "execution_count": 19,
   "metadata": {
    "tags": []
   },
   "outputs": [
    {
     "data": {},
     "metadata": {},
     "output_type": "display_data"
    },
    {
     "data": {
      "image/png": "[encoded data removed]",
      "text/plain": [
       "plot without title"
      ]
     },
     "metadata": {},
     "output_type": "display_data",
     "source": "R display func"
    }
   ],
   "source": [
    "# Visualize the list using ggplot and geom_bar\n",
    "ggplot(data_1, aes(x = Values, y = reorder(Name, Values))) +\n",
    "  geom_bar(stat = \"identity\", fill = \"blue\") +\n",
    "  labs(title = \"Horizontal Bar Chart\", x = \"Values\", y = \"Index\") +\n",
    "  theme_minimal()"
   ]
  },
  {
   "cell_type": "markdown",
   "metadata": {},
   "source": [
    "You should see a sorted coefficient bar chart like the following example: \n"
   ]
  },
  {
   "cell_type": "markdown",
   "metadata": {},
   "source": [
    "<a href=\"https://cognitiveclass.ai/\">\n",
    "    <img src=\"https://cf-courses-data.s3.us.cloud-object-storage.appdomain.cloud/IBMDeveloperSkillsNetwork-RP0321EN-SkillsNetwork/labs/module_4/images/coefficient_chart.png\" width=\"600\" align=\"center\">\n",
    "</a>\n"
   ]
  },
  {
   "cell_type": "markdown",
   "metadata": {},
   "source": [
    "Mark down these 'top-ranked variables by coefficient', which will be used for model refinments in the next labs.\n"
   ]
  },
  {
   "cell_type": "markdown",
   "metadata": {},
   "source": [
    "Note that here the main reason we use absolute value is to easily identify important variables, i.e. variables with large magnitudes, no matter it's negative or positive. If we want to interprete the model then it's better to seperate the positive and negative coefficients.\n"
   ]
  },
  {
   "cell_type": "markdown",
   "metadata": {},
   "source": [
    "# Next Steps\n"
   ]
  },
  {
   "cell_type": "markdown",
   "metadata": {},
   "source": [
    "Great! Now you have built a baseline linear regression model to predict hourly bike rent count, with reasonably good performance. In the next lab, you will be refining the baseline model to improve its performance.\n"
   ]
  },
  {
   "cell_type": "markdown",
   "metadata": {},
   "source": [
    "## Authors\n",
    "\n",
    "<a href=\"https://www.linkedin.com/in/yan-luo-96288783/\" target=\"_blank\">Yan Luo</a>\n"
   ]
  },
  {
   "cell_type": "markdown",
   "metadata": {},
   "source": [
    "### Other Contributors\n",
    "\n",
    "Jeff Grossman\n"
   ]
  },
  {
   "cell_type": "markdown",
   "metadata": {},
   "source": [
    "## Change Log\n",
    "\n",
    "| Date (YYYY-MM-DD) | Version | Changed By | Change Description           |\n",
    "| ----------------- | ------- | ---------- | ---------------------------- |\n",
    "| 2021-04-08        | 1.0     | Yan        | Initial version created      |\n",
    "|                   |         |            |                              |\n",
    "|                   |         |            |                              |\n",
    "\n",
    "## <h3 align=\"center\"> © IBM Corporation 2021. All rights reserved. <h3/>\n"
   ]
  }
 ],
 "metadata": {
  "kernelspec": {
   "display_name": "R",
   "language": "R",
   "name": "conda-env-r-r"
  },
  "language_info": {
   "codemirror_mode": "r",
   "file_extension": ".r",
   "mimetype": "text/x-r-source",
   "name": "R",
   "pygments_lexer": "r",
   "version": "3.5.1"
  }
 },
 "nbformat": 4,
 "nbformat_minor": 4
}
