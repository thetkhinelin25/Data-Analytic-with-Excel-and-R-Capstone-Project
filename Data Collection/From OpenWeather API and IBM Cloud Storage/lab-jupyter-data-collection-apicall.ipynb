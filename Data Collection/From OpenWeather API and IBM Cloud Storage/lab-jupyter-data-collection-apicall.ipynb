{
 "cells": [
  {
   "cell_type": "markdown",
   "metadata": {},
   "source": [
    "<center>\n",
    "<img src=\"https://cf-courses-data.s3.us.cloud-object-storage.appdomain.cloud/IBMDeveloperSkillsNetwork-RP0321EN-SkillsNetwork/labs/module_1/images/SN_web_lightmode.png\" width=\"300\"> \n",
    "</center>\n"
   ]
  },
  {
   "cell_type": "markdown",
   "metadata": {},
   "source": [
    "<h1>OpenWeather APIs Calls</h1>\n",
    "\n",
    "Estimated time needed: **40** minutes\n"
   ]
  },
  {
   "cell_type": "markdown",
   "metadata": {},
   "source": [
    "## Lab Overview:\n",
    "\n",
    "In this lab, you will be collecting real-time current and forecasted weather data for cities using the **OpenWeather API**. It can give you current weather data for any location including over 200,000 cities and 5 day forecasts for free (with limited API usage). You just need to use HTTP requests to call those weather APIs and get the weather data.\n",
    "\n",
    "You will be given instructions to set up a free OpenWeather API account with an API key for authentication. Then, you will be shown, with code examples, how to get the current weather for a given city. After you are familiar with OpenWeather API, you will be asked to get 5-day forecast data for a list of cities.\n"
   ]
  },
  {
   "cell_type": "markdown",
   "metadata": {},
   "source": [
    "## Setup OpenWeather API account\n"
   ]
  },
  {
   "cell_type": "markdown",
   "metadata": {},
   "source": [
    "You can create an OpenWeather API account [here](https://home.openweathermap.org/users/sign_up). After your account has been created and verified, you can go to Account -> My API Keys:\n"
   ]
  },
  {
   "cell_type": "markdown",
   "metadata": {},
   "source": [
    "<a href=\"https://cognitiveclass.ai/\">\n",
    "    <img src=\"https://cf-courses-data.s3.us.cloud-object-storage.appdomain.cloud/IBMDeveloperSkillsNetwork-RP0321EN-SkillsNetwork/labs/module_1/images/l2-openweather-apikey.png\" width=\"400\" align=\"center\">\n",
    "</a>\n"
   ]
  },
  {
   "cell_type": "markdown",
   "metadata": {},
   "source": [
    "and find your API key here:\n"
   ]
  },
  {
   "cell_type": "markdown",
   "metadata": {},
   "source": [
    "<a href=\"https://cognitiveclass.ai/\">\n",
    "    <img src=\"https://cf-courses-data.s3.us.cloud-object-storage.appdomain.cloud/IBMDeveloperSkillsNetwork-RP0321EN-SkillsNetwork/labs/module_1/images/l2-openweather-apikey-value.png\" width=\"400\" align=\"center\">\n",
    "</a>\n"
   ]
  },
  {
   "cell_type": "markdown",
   "metadata": {},
   "source": [
    "Now mark down your generated API key, which will be used to authenticate your HTTP requests to OpenWeather API.\n",
    "\n",
    "Note that a new API key may take some time to be activated. You may quickly try the following URL using a web browser.\n",
    "\n",
    "With the `{your_api_key}` URL parameter replaced by your own API key and go to the following URL:\n",
    "\n",
    "https://api.openweathermap.org/data/2.5/weather?q=Seoul&appid={your_api_key}\n"
   ]
  },
  {
   "cell_type": "markdown",
   "metadata": {},
   "source": [
    "\n",
    "until you see some weather data returned (instead of 401 or other error status), similar to the following JSON result:\n",
    "\n",
    "```\n",
    "{\"coord\":{\"lon\":126.9778,\"lat\":37.5683},\n",
    "\"weather\":[{\"id\":800,\"main\":\"Clear\",\"description\":\"clear sky\",\"icon\":\"01n\"}],\n",
    "\"base\":\"stations\",\n",
    "\"main\":{\"temp\":285.16,\"feels_like\":284.04,\"temp_min\":284.15,\"temp_max\":287.15,\"pressure\":1020,\"humidity\":62},\n",
    "\"visibility\":10000,\n",
    "\"wind\":{\"speed\":1.03,\"deg\":220},\"clouds\":{\"all\":0},\"dt\":1617718307,\"sys\":{\"type\":1,\"id\":8105,\"country\":\"KR\",\"sunrise\":1617657021,\"sunset\":1617703103},\"timezone\":32400,\"id\":1835848,\"name\":\"Seoul\",\"cod\":200}\n",
    "```\n"
   ]
  },
  {
   "cell_type": "markdown",
   "metadata": {},
   "source": [
    "## Coding Practice: Get the current weather data for a city using OpenWeather API\n"
   ]
  },
  {
   "cell_type": "markdown",
   "metadata": {},
   "source": [
    "First import `httr` library. Run install.packages(\"httr\") prior to loading the package only if you are running this lab locally on RStudio on your system.\n"
   ]
  },
  {
   "cell_type": "code",
   "execution_count": 1,
   "metadata": {
    "tags": []
   },
   "outputs": [],
   "source": [
    "# Check if need to install rvest` library\n",
    "\n",
    "library(httr)"
   ]
  },
  {
   "cell_type": "markdown",
   "metadata": {},
   "source": [
    "The API base URL to get current weather is https://api.openweathermap.org/data/2.5/weather\n"
   ]
  },
  {
   "cell_type": "code",
   "execution_count": 2,
   "metadata": {
    "tags": []
   },
   "outputs": [],
   "source": [
    "# URL for Current Weather API\n",
    "current_weather_url <- 'https://api.openweathermap.org/data/2.5/weather'"
   ]
  },
  {
   "cell_type": "markdown",
   "metadata": {},
   "source": [
    "Next, let's create a list to hold URL parameters for current weather API\n"
   ]
  },
  {
   "cell_type": "code",
   "execution_count": 3,
   "metadata": {
    "tags": []
   },
   "outputs": [],
   "source": [
    "# need to be replaced by your real API key\n",
    "your_api_key <- \"62fae4ff8743899280ff8abd50e6ee8d\"\n",
    "# Input `q` is the city name\n",
    "# Input `appid` is your API KEY, \n",
    "# Input `units` are preferred units such as Metric or Imperial\n",
    "current_query <- list(q = \"Seoul\", appid = your_api_key, units=\"metric\")"
   ]
  },
  {
   "cell_type": "markdown",
   "metadata": {},
   "source": [
    "Now we can make a HTTP request to the current weather API\n"
   ]
  },
  {
   "cell_type": "code",
   "execution_count": 4,
   "metadata": {
    "tags": []
   },
   "outputs": [],
   "source": [
    "response <- GET(current_weather_url, query=current_query)"
   ]
  },
  {
   "cell_type": "markdown",
   "metadata": {},
   "source": [
    "If we check the response type, we can see it is in JSON format\n"
   ]
  },
  {
   "cell_type": "code",
   "execution_count": 5,
   "metadata": {
    "tags": []
   },
   "outputs": [
    {
     "data": {
      "text/html": [
       "'application/json'"
      ],
      "text/latex": [
       "'application/json'"
      ],
      "text/markdown": [
       "'application/json'"
      ],
      "text/plain": [
       "[1] \"application/json\""
      ]
     },
     "metadata": {},
     "output_type": "display_data"
    }
   ],
   "source": [
    "http_type(response)"
   ]
  },
  {
   "cell_type": "markdown",
   "metadata": {},
   "source": [
    "JSON is an open standard file and data interchange format that uses human-readable text to store and transmit data objects. To read the JSON HTTP response, you can use the `content()` function to parse it as a named list in R.\n"
   ]
  },
  {
   "cell_type": "code",
   "execution_count": 6,
   "metadata": {
    "tags": []
   },
   "outputs": [],
   "source": [
    "json_result <- content(response, as=\"parsed\")"
   ]
  },
  {
   "cell_type": "markdown",
   "metadata": {},
   "source": [
    "If you use the `class()` function, you can see it is a R `List` object\n"
   ]
  },
  {
   "cell_type": "code",
   "execution_count": 7,
   "metadata": {
    "tags": []
   },
   "outputs": [
    {
     "data": {
      "text/html": [
       "'list'"
      ],
      "text/latex": [
       "'list'"
      ],
      "text/markdown": [
       "'list'"
      ],
      "text/plain": [
       "[1] \"list\""
      ]
     },
     "metadata": {},
     "output_type": "display_data"
    }
   ],
   "source": [
    "class(json_result)"
   ]
  },
  {
   "cell_type": "markdown",
   "metadata": {},
   "source": [
    "Now let's print the JSON result.\n"
   ]
  },
  {
   "cell_type": "code",
   "execution_count": 8,
   "metadata": {
    "tags": []
   },
   "outputs": [
    {
     "data": {
      "text/html": [
       "<dl>\n",
       "\t<dt>$coord</dt>\n",
       "\t\t<dd><dl>\n",
       "\t<dt>$lon</dt>\n",
       "\t\t<dd>126.9778</dd>\n",
       "\t<dt>$lat</dt>\n",
       "\t\t<dd>37.5683</dd>\n",
       "</dl>\n",
       "</dd>\n",
       "\t<dt>$weather</dt>\n",
       "\t\t<dd><ol>\n",
       "\t<li><dl>\n",
       "\t<dt>$id</dt>\n",
       "\t\t<dd>803</dd>\n",
       "\t<dt>$main</dt>\n",
       "\t\t<dd>'Clouds'</dd>\n",
       "\t<dt>$description</dt>\n",
       "\t\t<dd>'broken clouds'</dd>\n",
       "\t<dt>$icon</dt>\n",
       "\t\t<dd>'04d'</dd>\n",
       "</dl>\n",
       "</li>\n",
       "</ol>\n",
       "</dd>\n",
       "\t<dt>$base</dt>\n",
       "\t\t<dd>'stations'</dd>\n",
       "\t<dt>$main</dt>\n",
       "\t\t<dd><dl>\n",
       "\t<dt>$temp</dt>\n",
       "\t\t<dd>30.19</dd>\n",
       "\t<dt>$feels_like</dt>\n",
       "\t\t<dd>34.53</dd>\n",
       "\t<dt>$temp_min</dt>\n",
       "\t\t<dd>28.69</dd>\n",
       "\t<dt>$temp_max</dt>\n",
       "\t\t<dd>31.66</dd>\n",
       "\t<dt>$pressure</dt>\n",
       "\t\t<dd>1010</dd>\n",
       "\t<dt>$humidity</dt>\n",
       "\t\t<dd>66</dd>\n",
       "\t<dt>$sea_level</dt>\n",
       "\t\t<dd>1010</dd>\n",
       "\t<dt>$grnd_level</dt>\n",
       "\t\t<dd>1000</dd>\n",
       "</dl>\n",
       "</dd>\n",
       "\t<dt>$visibility</dt>\n",
       "\t\t<dd>10000</dd>\n",
       "\t<dt>$wind</dt>\n",
       "\t\t<dd><dl>\n",
       "\t<dt>$speed</dt>\n",
       "\t\t<dd>2.57</dd>\n",
       "\t<dt>$deg</dt>\n",
       "\t\t<dd>270</dd>\n",
       "</dl>\n",
       "</dd>\n",
       "\t<dt>$clouds</dt>\n",
       "\t\t<dd><strong>$all</strong> = 75</dd>\n",
       "\t<dt>$dt</dt>\n",
       "\t\t<dd>1721030564</dd>\n",
       "\t<dt>$sys</dt>\n",
       "\t\t<dd><dl>\n",
       "\t<dt>$type</dt>\n",
       "\t\t<dd>1</dd>\n",
       "\t<dt>$id</dt>\n",
       "\t\t<dd>8105</dd>\n",
       "\t<dt>$country</dt>\n",
       "\t\t<dd>'KR'</dd>\n",
       "\t<dt>$sunrise</dt>\n",
       "\t\t<dd>1720988550</dd>\n",
       "\t<dt>$sunset</dt>\n",
       "\t\t<dd>1721040791</dd>\n",
       "</dl>\n",
       "</dd>\n",
       "\t<dt>$timezone</dt>\n",
       "\t\t<dd>32400</dd>\n",
       "\t<dt>$id</dt>\n",
       "\t\t<dd>1835848</dd>\n",
       "\t<dt>$name</dt>\n",
       "\t\t<dd>'Seoul'</dd>\n",
       "\t<dt>$cod</dt>\n",
       "\t\t<dd>200</dd>\n",
       "</dl>\n"
      ],
      "text/latex": [
       "\\begin{description}\n",
       "\\item[\\$coord] \\begin{description}\n",
       "\\item[\\$lon] 126.9778\n",
       "\\item[\\$lat] 37.5683\n",
       "\\end{description}\n",
       "\n",
       "\\item[\\$weather] \\begin{enumerate}\n",
       "\\item \\begin{description}\n",
       "\\item[\\$id] 803\n",
       "\\item[\\$main] 'Clouds'\n",
       "\\item[\\$description] 'broken clouds'\n",
       "\\item[\\$icon] '04d'\n",
       "\\end{description}\n",
       "\n",
       "\\end{enumerate}\n",
       "\n",
       "\\item[\\$base] 'stations'\n",
       "\\item[\\$main] \\begin{description}\n",
       "\\item[\\$temp] 30.19\n",
       "\\item[\\$feels\\_like] 34.53\n",
       "\\item[\\$temp\\_min] 28.69\n",
       "\\item[\\$temp\\_max] 31.66\n",
       "\\item[\\$pressure] 1010\n",
       "\\item[\\$humidity] 66\n",
       "\\item[\\$sea\\_level] 1010\n",
       "\\item[\\$grnd\\_level] 1000\n",
       "\\end{description}\n",
       "\n",
       "\\item[\\$visibility] 10000\n",
       "\\item[\\$wind] \\begin{description}\n",
       "\\item[\\$speed] 2.57\n",
       "\\item[\\$deg] 270\n",
       "\\end{description}\n",
       "\n",
       "\\item[\\$clouds] \\textbf{\\$all} = 75\n",
       "\\item[\\$dt] 1721030564\n",
       "\\item[\\$sys] \\begin{description}\n",
       "\\item[\\$type] 1\n",
       "\\item[\\$id] 8105\n",
       "\\item[\\$country] 'KR'\n",
       "\\item[\\$sunrise] 1720988550\n",
       "\\item[\\$sunset] 1721040791\n",
       "\\end{description}\n",
       "\n",
       "\\item[\\$timezone] 32400\n",
       "\\item[\\$id] 1835848\n",
       "\\item[\\$name] 'Seoul'\n",
       "\\item[\\$cod] 200\n",
       "\\end{description}\n"
      ],
      "text/markdown": [
       "$coord\n",
       ":   $lon\n",
       ":   126.9778\n",
       "$lat\n",
       ":   37.5683\n",
       "\n",
       "\n",
       "\n",
       "$weather\n",
       ":   1. $id\n",
       ":   803\n",
       "$main\n",
       ":   'Clouds'\n",
       "$description\n",
       ":   'broken clouds'\n",
       "$icon\n",
       ":   '04d'\n",
       "\n",
       "\n",
       "\n",
       "\n",
       "\n",
       "\n",
       "$base\n",
       ":   'stations'\n",
       "$main\n",
       ":   $temp\n",
       ":   30.19\n",
       "$feels_like\n",
       ":   34.53\n",
       "$temp_min\n",
       ":   28.69\n",
       "$temp_max\n",
       ":   31.66\n",
       "$pressure\n",
       ":   1010\n",
       "$humidity\n",
       ":   66\n",
       "$sea_level\n",
       ":   1010\n",
       "$grnd_level\n",
       ":   1000\n",
       "\n",
       "\n",
       "\n",
       "$visibility\n",
       ":   10000\n",
       "$wind\n",
       ":   $speed\n",
       ":   2.57\n",
       "$deg\n",
       ":   270\n",
       "\n",
       "\n",
       "\n",
       "$clouds\n",
       ":   **$all** = 75\n",
       "$dt\n",
       ":   1721030564\n",
       "$sys\n",
       ":   $type\n",
       ":   1\n",
       "$id\n",
       ":   8105\n",
       "$country\n",
       ":   'KR'\n",
       "$sunrise\n",
       ":   1720988550\n",
       "$sunset\n",
       ":   1721040791\n",
       "\n",
       "\n",
       "\n",
       "$timezone\n",
       ":   32400\n",
       "$id\n",
       ":   1835848\n",
       "$name\n",
       ":   'Seoul'\n",
       "$cod\n",
       ":   200\n",
       "\n",
       "\n"
      ],
      "text/plain": [
       "$coord\n",
       "$coord$lon\n",
       "[1] 126.9778\n",
       "\n",
       "$coord$lat\n",
       "[1] 37.5683\n",
       "\n",
       "\n",
       "$weather\n",
       "$weather[[1]]\n",
       "$weather[[1]]$id\n",
       "[1] 803\n",
       "\n",
       "$weather[[1]]$main\n",
       "[1] \"Clouds\"\n",
       "\n",
       "$weather[[1]]$description\n",
       "[1] \"broken clouds\"\n",
       "\n",
       "$weather[[1]]$icon\n",
       "[1] \"04d\"\n",
       "\n",
       "\n",
       "\n",
       "$base\n",
       "[1] \"stations\"\n",
       "\n",
       "$main\n",
       "$main$temp\n",
       "[1] 30.19\n",
       "\n",
       "$main$feels_like\n",
       "[1] 34.53\n",
       "\n",
       "$main$temp_min\n",
       "[1] 28.69\n",
       "\n",
       "$main$temp_max\n",
       "[1] 31.66\n",
       "\n",
       "$main$pressure\n",
       "[1] 1010\n",
       "\n",
       "$main$humidity\n",
       "[1] 66\n",
       "\n",
       "$main$sea_level\n",
       "[1] 1010\n",
       "\n",
       "$main$grnd_level\n",
       "[1] 1000\n",
       "\n",
       "\n",
       "$visibility\n",
       "[1] 10000\n",
       "\n",
       "$wind\n",
       "$wind$speed\n",
       "[1] 2.57\n",
       "\n",
       "$wind$deg\n",
       "[1] 270\n",
       "\n",
       "\n",
       "$clouds\n",
       "$clouds$all\n",
       "[1] 75\n",
       "\n",
       "\n",
       "$dt\n",
       "[1] 1721030564\n",
       "\n",
       "$sys\n",
       "$sys$type\n",
       "[1] 1\n",
       "\n",
       "$sys$id\n",
       "[1] 8105\n",
       "\n",
       "$sys$country\n",
       "[1] \"KR\"\n",
       "\n",
       "$sys$sunrise\n",
       "[1] 1720988550\n",
       "\n",
       "$sys$sunset\n",
       "[1] 1721040791\n",
       "\n",
       "\n",
       "$timezone\n",
       "[1] 32400\n",
       "\n",
       "$id\n",
       "[1] 1835848\n",
       "\n",
       "$name\n",
       "[1] \"Seoul\"\n",
       "\n",
       "$cod\n",
       "[1] 200\n"
      ]
     },
     "metadata": {},
     "output_type": "display_data"
    }
   ],
   "source": [
    "json_result"
   ]
  },
  {
   "cell_type": "markdown",
   "metadata": {},
   "source": [
    "It contains very detailed weather data about the city of `Seoul`. Feel free to try other cities as well. We need to convert the named list to a data frame so that we can use data frame operations to process the data. Below is a simple example, which you may implement your own way to convert it to a data frame.\n"
   ]
  },
  {
   "cell_type": "code",
   "execution_count": 9,
   "metadata": {
    "tags": []
   },
   "outputs": [],
   "source": [
    "# Create some empty vectors to hold data temporarily\n",
    "weather <- c()\n",
    "visibility <- c()\n",
    "temp <- c()\n",
    "temp_min <- c()\n",
    "temp_max <- c()\n",
    "pressure <- c()\n",
    "humidity <- c()\n",
    "wind_speed <- c()\n",
    "wind_deg <- c()\n"
   ]
  },
  {
   "cell_type": "markdown",
   "metadata": {},
   "source": [
    "Now assign the values in the `json_result` list into different vectors\n"
   ]
  },
  {
   "cell_type": "code",
   "execution_count": 10,
   "metadata": {
    "tags": []
   },
   "outputs": [],
   "source": [
    "# $weather is also a list with one element, its $main element indicates the weather status such as clear or rain\n",
    "weather <- c(weather, json_result$weather[[1]]$main)\n",
    "# Get Visibility\n",
    "visibility <- c(visibility, json_result$visibility)\n",
    "# Get current temperature \n",
    "temp <- c(temp, json_result$main$temp)\n",
    "# Get min temperature \n",
    "temp_min <- c(temp_min, json_result$main$temp_min)\n",
    "# Get max temperature \n",
    "temp_max <- c(temp_max, json_result$main$temp_max)\n",
    "# Get pressure\n",
    "pressure <- c(pressure, json_result$main$pressure)\n",
    "# Get humidity\n",
    "humidity <- c(humidity, json_result$main$humidity)\n",
    "# Get wind speed\n",
    "wind_speed <- c(wind_speed, json_result$wind$speed)\n",
    "# Get wind direction\n",
    "wind_deg <- c(wind_deg, json_result$wind$deg)\n"
   ]
  },
  {
   "cell_type": "markdown",
   "metadata": {},
   "source": [
    "Combine all vectors as columns of a data frame\n"
   ]
  },
  {
   "cell_type": "code",
   "execution_count": 11,
   "metadata": {
    "tags": []
   },
   "outputs": [],
   "source": [
    "# Combine all vectors\n",
    "weather_data_frame <- data.frame(weather=weather, \n",
    "                                 visibility=visibility, \n",
    "                                 temp=temp, \n",
    "                                 temp_min=temp_min, \n",
    "                                 temp_max=temp_max, \n",
    "                                 pressure=pressure, \n",
    "                                 humidity=humidity, \n",
    "                                 wind_speed=wind_speed, \n",
    "                                 wind_deg=wind_deg)"
   ]
  },
  {
   "cell_type": "code",
   "execution_count": 12,
   "metadata": {
    "tags": []
   },
   "outputs": [
    {
     "name": "stdout",
     "output_type": "stream",
     "text": [
      "  weather visibility  temp temp_min temp_max pressure humidity wind_speed\n",
      "1  Clouds      10000 30.19    28.69    31.66     1010       66       2.57\n",
      "  wind_deg\n",
      "1      270\n"
     ]
    }
   ],
   "source": [
    "# Check the generated data frame\n",
    "print(weather_data_frame)"
   ]
  },
  {
   "cell_type": "markdown",
   "metadata": {},
   "source": [
    "# TASK:  Get 5-day weather forecasts for a list of cities using the OpenWeather API\n"
   ]
  },
  {
   "cell_type": "markdown",
   "metadata": {},
   "source": [
    "Now you should be familiar with the usage of OpenWeather API. Next, you need to complete a task to get 5-day weather forecasts for a list of cities\n"
   ]
  },
  {
   "cell_type": "markdown",
   "metadata": {},
   "source": [
    "_TODO:_ Write a function to return a data frame containing 5-day weather forecasts for a list of cities\n"
   ]
  },
  {
   "cell_type": "code",
   "execution_count": 91,
   "metadata": {
    "tags": []
   },
   "outputs": [],
   "source": [
    "# Create some empty vectors to hold data temporarily\n",
    "\n",
    "# City name column\n",
    "city <- c()\n",
    "# Weather column, rainy or cloudy, etc\n",
    "weather <- c()\n",
    "# Sky visibility column\n",
    "visibility <- c()\n",
    "# Current temperature column\n",
    "temp <- c()\n",
    "# Max temperature column\n",
    "temp_min <- c()\n",
    "# Min temperature column\n",
    "temp_max <- c()\n",
    "# Pressure column\n",
    "pressure <- c()\n",
    "# Humidity column\n",
    "humidity <- c()\n",
    "# Wind speed column\n",
    "wind_speed <- c()\n",
    "# Wind direction column\n",
    "wind_deg <- c()\n",
    "# Forecast timestamp\n",
    "forecast_datetime <- c()\n",
    "# Season column\n",
    "# Note that for season, you can hard code a season value from levels Spring, Summer, Autumn, and Winter based on your current month.\n",
    "season <- c()\n"
   ]
  },
  {
   "cell_type": "code",
   "execution_count": 92,
   "metadata": {
    "tags": []
   },
   "outputs": [],
   "source": [
    "# Get forecast data for a given city list\n",
    "get_weather_forecaset_by_cities <- function(city_names){\n",
    "    df <- data.frame()\n",
    "    for (city_name in city_names){\n",
    "        \n",
    "        # Forecast API URL\n",
    "        forecast_url <- 'https://api.openweathermap.org/data/2.5/forecast'\n",
    "        \n",
    "        # Create query parameters\n",
    "        forecast_query <- list(q = city_name, appid = \"62fae4ff8743899280ff8abd50e6ee8d\", units=\"metric\")\n",
    "        \n",
    "        # Make HTTP GET call for the given city\n",
    "        response <- GET(forecast_url, query=forecast_query)\n",
    "        \n",
    "        # Note that the 5-day forecast JSON result is a list of lists. You can print the reponse to check the results\n",
    "        #results <- json_list$list\n",
    "        results <- content(response, as=\"parsed\")\n",
    "        \n",
    "        # Loop the json result\n",
    "        for(result in results$list) {\n",
    "            # City name column\n",
    "            city <- c(city, city_name)\n",
    "            \n",
    "            # Weather column, rainy or cloudy, etc\n",
    "            weather <- c(weather, result$weather[[1]]$main)\n",
    "            \n",
    "            # Sky visibility column\n",
    "            if (!is.null(result$visibility)) {\n",
    "                visibility <- c(visibility, result$visibility)\n",
    "            } else {\n",
    "                visibility <- c(visibility, NA)\n",
    "            }\n",
    "            \n",
    "            # Current temperature column\n",
    "            temp <- c(temp, result$main$temp)\n",
    "            \n",
    "            # Max temperature column\n",
    "            temp_min <- c(temp_min, result$main$temp_min)\n",
    "            \n",
    "            # Min temperature column\n",
    "            temp_max <- c(temp_max, result$main$temp_max)\n",
    "            \n",
    "            # Pressure column\n",
    "            pressure <- c(pressure, result$main$pressure)\n",
    "            \n",
    "            # Humidity column\n",
    "            humidity <- c(humidity, result$main$humidity)\n",
    "            \n",
    "            # Wind speed column\n",
    "            wind_speed <- c(wind_speed, result$wind$speed)\n",
    "            \n",
    "            # Wind direction column\n",
    "            wind_deg <- c(wind_deg, result$wind$deg)\n",
    "            \n",
    "            # Forecast timestamp\n",
    "            forecast_datetime <- c(forecast_datetime, result$dt_txt)\n",
    "            \n",
    "            # Season column\n",
    "            # Note that for season, you can hard code a season value from levels Spring, Summer, Autumn, and Winter based on your current month.\n",
    "            season <- c(season, \"Summer\")\n",
    "        }\n",
    "        \n",
    "        # Add the R Lists into a data frame\n",
    "        df <- data.frame(city=city, \n",
    "                         weather=weather, \n",
    "                         visibility=visibility, \n",
    "                         temp=temp, \n",
    "                         temp_min=temp_min, \n",
    "                         temp_max=temp_max, \n",
    "                         pressure=pressure, \n",
    "                         humidity=humidity, \n",
    "                         wind_speed=wind_speed, \n",
    "                         wind_deg=wind_deg, \n",
    "                         forecast_datetime=forecast_datetime, \n",
    "                         season=season)\n",
    "    }\n",
    "    \n",
    "    # Return a data frame\n",
    "    return(df)\n",
    "    \n",
    "}\n"
   ]
  },
  {
   "cell_type": "markdown",
   "metadata": {},
   "source": [
    "Complete and call `get_weather_forecaset_by_cities` function with a list of cities, and write the data frame into a csv file called `cities_weather_forecast.csv`\n"
   ]
  },
  {
   "cell_type": "code",
   "execution_count": 93,
   "metadata": {
    "tags": []
   },
   "outputs": [],
   "source": [
    "cities <- c(\"Seoul\", \"Washington, D.C.\", \"Paris\", \"Suzhou\")\n",
    "cities_weather_df <- get_weather_forecaset_by_cities(cities)"
   ]
  },
  {
   "cell_type": "code",
   "execution_count": 95,
   "metadata": {
    "tags": []
   },
   "outputs": [
    {
     "data": {
      "text/html": [
       "<table>\n",
       "<caption>A data.frame: 6 × 12</caption>\n",
       "<thead>\n",
       "\t<tr><th></th><th scope=col>city</th><th scope=col>weather</th><th scope=col>visibility</th><th scope=col>temp</th><th scope=col>temp_min</th><th scope=col>temp_max</th><th scope=col>pressure</th><th scope=col>humidity</th><th scope=col>wind_speed</th><th scope=col>wind_deg</th><th scope=col>forecast_datetime</th><th scope=col>season</th></tr>\n",
       "\t<tr><th></th><th scope=col>&lt;fct&gt;</th><th scope=col>&lt;fct&gt;</th><th scope=col>&lt;int&gt;</th><th scope=col>&lt;dbl&gt;</th><th scope=col>&lt;dbl&gt;</th><th scope=col>&lt;dbl&gt;</th><th scope=col>&lt;int&gt;</th><th scope=col>&lt;int&gt;</th><th scope=col>&lt;dbl&gt;</th><th scope=col>&lt;int&gt;</th><th scope=col>&lt;fct&gt;</th><th scope=col>&lt;fct&gt;</th></tr>\n",
       "</thead>\n",
       "<tbody>\n",
       "\t<tr><th scope=row>1</th><td>Seoul</td><td>Rain  </td><td> 8776</td><td>29.76</td><td>28.65</td><td>29.76</td><td>1010</td><td>66</td><td>1.77</td><td>136</td><td>2024-07-15 09:00:00</td><td>Summer</td></tr>\n",
       "\t<tr><th scope=row>2</th><td>Seoul</td><td>Rain  </td><td>10000</td><td>28.53</td><td>26.08</td><td>28.53</td><td>1010</td><td>71</td><td>1.59</td><td>147</td><td>2024-07-15 12:00:00</td><td>Summer</td></tr>\n",
       "\t<tr><th scope=row>3</th><td>Seoul</td><td>Rain  </td><td>10000</td><td>26.39</td><td>24.71</td><td>26.39</td><td>1011</td><td>80</td><td>2.20</td><td>148</td><td>2024-07-15 15:00:00</td><td>Summer</td></tr>\n",
       "\t<tr><th scope=row>4</th><td>Seoul</td><td>Rain  </td><td>10000</td><td>24.35</td><td>24.35</td><td>24.35</td><td>1011</td><td>89</td><td>1.55</td><td>119</td><td>2024-07-15 18:00:00</td><td>Summer</td></tr>\n",
       "\t<tr><th scope=row>5</th><td>Seoul</td><td>Rain  </td><td>10000</td><td>24.02</td><td>24.02</td><td>24.02</td><td>1011</td><td>90</td><td>1.53</td><td> 93</td><td>2024-07-15 21:00:00</td><td>Summer</td></tr>\n",
       "\t<tr><th scope=row>6</th><td>Seoul</td><td>Clouds</td><td>10000</td><td>26.51</td><td>26.51</td><td>26.51</td><td>1011</td><td>75</td><td>2.32</td><td> 98</td><td>2024-07-16 00:00:00</td><td>Summer</td></tr>\n",
       "</tbody>\n",
       "</table>\n"
      ],
      "text/latex": [
       "A data.frame: 6 × 12\n",
       "\\begin{tabular}{r|llllllllllll}\n",
       "  & city & weather & visibility & temp & temp\\_min & temp\\_max & pressure & humidity & wind\\_speed & wind\\_deg & forecast\\_datetime & season\\\\\n",
       "  & <fct> & <fct> & <int> & <dbl> & <dbl> & <dbl> & <int> & <int> & <dbl> & <int> & <fct> & <fct>\\\\\n",
       "\\hline\n",
       "\t1 & Seoul & Rain   &  8776 & 29.76 & 28.65 & 29.76 & 1010 & 66 & 1.77 & 136 & 2024-07-15 09:00:00 & Summer\\\\\n",
       "\t2 & Seoul & Rain   & 10000 & 28.53 & 26.08 & 28.53 & 1010 & 71 & 1.59 & 147 & 2024-07-15 12:00:00 & Summer\\\\\n",
       "\t3 & Seoul & Rain   & 10000 & 26.39 & 24.71 & 26.39 & 1011 & 80 & 2.20 & 148 & 2024-07-15 15:00:00 & Summer\\\\\n",
       "\t4 & Seoul & Rain   & 10000 & 24.35 & 24.35 & 24.35 & 1011 & 89 & 1.55 & 119 & 2024-07-15 18:00:00 & Summer\\\\\n",
       "\t5 & Seoul & Rain   & 10000 & 24.02 & 24.02 & 24.02 & 1011 & 90 & 1.53 &  93 & 2024-07-15 21:00:00 & Summer\\\\\n",
       "\t6 & Seoul & Clouds & 10000 & 26.51 & 26.51 & 26.51 & 1011 & 75 & 2.32 &  98 & 2024-07-16 00:00:00 & Summer\\\\\n",
       "\\end{tabular}\n"
      ],
      "text/markdown": [
       "\n",
       "A data.frame: 6 × 12\n",
       "\n",
       "| <!--/--> | city &lt;fct&gt; | weather &lt;fct&gt; | visibility &lt;int&gt; | temp &lt;dbl&gt; | temp_min &lt;dbl&gt; | temp_max &lt;dbl&gt; | pressure &lt;int&gt; | humidity &lt;int&gt; | wind_speed &lt;dbl&gt; | wind_deg &lt;int&gt; | forecast_datetime &lt;fct&gt; | season &lt;fct&gt; |\n",
       "|---|---|---|---|---|---|---|---|---|---|---|---|---|\n",
       "| 1 | Seoul | Rain   |  8776 | 29.76 | 28.65 | 29.76 | 1010 | 66 | 1.77 | 136 | 2024-07-15 09:00:00 | Summer |\n",
       "| 2 | Seoul | Rain   | 10000 | 28.53 | 26.08 | 28.53 | 1010 | 71 | 1.59 | 147 | 2024-07-15 12:00:00 | Summer |\n",
       "| 3 | Seoul | Rain   | 10000 | 26.39 | 24.71 | 26.39 | 1011 | 80 | 2.20 | 148 | 2024-07-15 15:00:00 | Summer |\n",
       "| 4 | Seoul | Rain   | 10000 | 24.35 | 24.35 | 24.35 | 1011 | 89 | 1.55 | 119 | 2024-07-15 18:00:00 | Summer |\n",
       "| 5 | Seoul | Rain   | 10000 | 24.02 | 24.02 | 24.02 | 1011 | 90 | 1.53 |  93 | 2024-07-15 21:00:00 | Summer |\n",
       "| 6 | Seoul | Clouds | 10000 | 26.51 | 26.51 | 26.51 | 1011 | 75 | 2.32 |  98 | 2024-07-16 00:00:00 | Summer |\n",
       "\n"
      ],
      "text/plain": [
       "  city  weather visibility temp  temp_min temp_max pressure humidity wind_speed\n",
       "1 Seoul Rain     8776      29.76 28.65    29.76    1010     66       1.77      \n",
       "2 Seoul Rain    10000      28.53 26.08    28.53    1010     71       1.59      \n",
       "3 Seoul Rain    10000      26.39 24.71    26.39    1011     80       2.20      \n",
       "4 Seoul Rain    10000      24.35 24.35    24.35    1011     89       1.55      \n",
       "5 Seoul Rain    10000      24.02 24.02    24.02    1011     90       1.53      \n",
       "6 Seoul Clouds  10000      26.51 26.51    26.51    1011     75       2.32      \n",
       "  wind_deg forecast_datetime   season\n",
       "1 136      2024-07-15 09:00:00 Summer\n",
       "2 147      2024-07-15 12:00:00 Summer\n",
       "3 148      2024-07-15 15:00:00 Summer\n",
       "4 119      2024-07-15 18:00:00 Summer\n",
       "5  93      2024-07-15 21:00:00 Summer\n",
       "6  98      2024-07-16 00:00:00 Summer"
      ]
     },
     "metadata": {},
     "output_type": "display_data"
    }
   ],
   "source": [
    "head(cities_weather_df)"
   ]
  },
  {
   "cell_type": "code",
   "execution_count": 96,
   "metadata": {
    "tags": []
   },
   "outputs": [
    {
     "data": {
      "text/html": [
       "<table>\n",
       "<caption>A data.frame: 6 × 12</caption>\n",
       "<thead>\n",
       "\t<tr><th></th><th scope=col>city</th><th scope=col>weather</th><th scope=col>visibility</th><th scope=col>temp</th><th scope=col>temp_min</th><th scope=col>temp_max</th><th scope=col>pressure</th><th scope=col>humidity</th><th scope=col>wind_speed</th><th scope=col>wind_deg</th><th scope=col>forecast_datetime</th><th scope=col>season</th></tr>\n",
       "\t<tr><th></th><th scope=col>&lt;fct&gt;</th><th scope=col>&lt;fct&gt;</th><th scope=col>&lt;int&gt;</th><th scope=col>&lt;dbl&gt;</th><th scope=col>&lt;dbl&gt;</th><th scope=col>&lt;dbl&gt;</th><th scope=col>&lt;int&gt;</th><th scope=col>&lt;int&gt;</th><th scope=col>&lt;dbl&gt;</th><th scope=col>&lt;int&gt;</th><th scope=col>&lt;fct&gt;</th><th scope=col>&lt;fct&gt;</th></tr>\n",
       "</thead>\n",
       "<tbody>\n",
       "\t<tr><th scope=row>155</th><td>Suzhou</td><td>Clouds</td><td>10000</td><td>28.79</td><td>28.79</td><td>28.79</td><td>1006</td><td>79</td><td>1.24</td><td>116</td><td>2024-07-19 15:00:00</td><td>Summer</td></tr>\n",
       "\t<tr><th scope=row>156</th><td>Suzhou</td><td>Clouds</td><td>10000</td><td>27.80</td><td>27.80</td><td>27.80</td><td>1005</td><td>82</td><td>2.21</td><td>119</td><td>2024-07-19 18:00:00</td><td>Summer</td></tr>\n",
       "\t<tr><th scope=row>157</th><td>Suzhou</td><td>Clouds</td><td>10000</td><td>26.46</td><td>26.46</td><td>26.46</td><td>1005</td><td>86</td><td>1.93</td><td>117</td><td>2024-07-19 21:00:00</td><td>Summer</td></tr>\n",
       "\t<tr><th scope=row>158</th><td>Suzhou</td><td>Clouds</td><td>10000</td><td>30.00</td><td>30.00</td><td>30.00</td><td>1007</td><td>74</td><td>3.42</td><td>152</td><td>2024-07-20 00:00:00</td><td>Summer</td></tr>\n",
       "\t<tr><th scope=row>159</th><td>Suzhou</td><td>Clouds</td><td>10000</td><td>34.38</td><td>34.38</td><td>34.38</td><td>1007</td><td>51</td><td>3.04</td><td>164</td><td>2024-07-20 03:00:00</td><td>Summer</td></tr>\n",
       "\t<tr><th scope=row>160</th><td>Suzhou</td><td>Clouds</td><td>10000</td><td>35.86</td><td>35.86</td><td>35.86</td><td>1006</td><td>47</td><td>2.78</td><td>180</td><td>2024-07-20 06:00:00</td><td>Summer</td></tr>\n",
       "</tbody>\n",
       "</table>\n"
      ],
      "text/latex": [
       "A data.frame: 6 × 12\n",
       "\\begin{tabular}{r|llllllllllll}\n",
       "  & city & weather & visibility & temp & temp\\_min & temp\\_max & pressure & humidity & wind\\_speed & wind\\_deg & forecast\\_datetime & season\\\\\n",
       "  & <fct> & <fct> & <int> & <dbl> & <dbl> & <dbl> & <int> & <int> & <dbl> & <int> & <fct> & <fct>\\\\\n",
       "\\hline\n",
       "\t155 & Suzhou & Clouds & 10000 & 28.79 & 28.79 & 28.79 & 1006 & 79 & 1.24 & 116 & 2024-07-19 15:00:00 & Summer\\\\\n",
       "\t156 & Suzhou & Clouds & 10000 & 27.80 & 27.80 & 27.80 & 1005 & 82 & 2.21 & 119 & 2024-07-19 18:00:00 & Summer\\\\\n",
       "\t157 & Suzhou & Clouds & 10000 & 26.46 & 26.46 & 26.46 & 1005 & 86 & 1.93 & 117 & 2024-07-19 21:00:00 & Summer\\\\\n",
       "\t158 & Suzhou & Clouds & 10000 & 30.00 & 30.00 & 30.00 & 1007 & 74 & 3.42 & 152 & 2024-07-20 00:00:00 & Summer\\\\\n",
       "\t159 & Suzhou & Clouds & 10000 & 34.38 & 34.38 & 34.38 & 1007 & 51 & 3.04 & 164 & 2024-07-20 03:00:00 & Summer\\\\\n",
       "\t160 & Suzhou & Clouds & 10000 & 35.86 & 35.86 & 35.86 & 1006 & 47 & 2.78 & 180 & 2024-07-20 06:00:00 & Summer\\\\\n",
       "\\end{tabular}\n"
      ],
      "text/markdown": [
       "\n",
       "A data.frame: 6 × 12\n",
       "\n",
       "| <!--/--> | city &lt;fct&gt; | weather &lt;fct&gt; | visibility &lt;int&gt; | temp &lt;dbl&gt; | temp_min &lt;dbl&gt; | temp_max &lt;dbl&gt; | pressure &lt;int&gt; | humidity &lt;int&gt; | wind_speed &lt;dbl&gt; | wind_deg &lt;int&gt; | forecast_datetime &lt;fct&gt; | season &lt;fct&gt; |\n",
       "|---|---|---|---|---|---|---|---|---|---|---|---|---|\n",
       "| 155 | Suzhou | Clouds | 10000 | 28.79 | 28.79 | 28.79 | 1006 | 79 | 1.24 | 116 | 2024-07-19 15:00:00 | Summer |\n",
       "| 156 | Suzhou | Clouds | 10000 | 27.80 | 27.80 | 27.80 | 1005 | 82 | 2.21 | 119 | 2024-07-19 18:00:00 | Summer |\n",
       "| 157 | Suzhou | Clouds | 10000 | 26.46 | 26.46 | 26.46 | 1005 | 86 | 1.93 | 117 | 2024-07-19 21:00:00 | Summer |\n",
       "| 158 | Suzhou | Clouds | 10000 | 30.00 | 30.00 | 30.00 | 1007 | 74 | 3.42 | 152 | 2024-07-20 00:00:00 | Summer |\n",
       "| 159 | Suzhou | Clouds | 10000 | 34.38 | 34.38 | 34.38 | 1007 | 51 | 3.04 | 164 | 2024-07-20 03:00:00 | Summer |\n",
       "| 160 | Suzhou | Clouds | 10000 | 35.86 | 35.86 | 35.86 | 1006 | 47 | 2.78 | 180 | 2024-07-20 06:00:00 | Summer |\n",
       "\n"
      ],
      "text/plain": [
       "    city   weather visibility temp  temp_min temp_max pressure humidity\n",
       "155 Suzhou Clouds  10000      28.79 28.79    28.79    1006     79      \n",
       "156 Suzhou Clouds  10000      27.80 27.80    27.80    1005     82      \n",
       "157 Suzhou Clouds  10000      26.46 26.46    26.46    1005     86      \n",
       "158 Suzhou Clouds  10000      30.00 30.00    30.00    1007     74      \n",
       "159 Suzhou Clouds  10000      34.38 34.38    34.38    1007     51      \n",
       "160 Suzhou Clouds  10000      35.86 35.86    35.86    1006     47      \n",
       "    wind_speed wind_deg forecast_datetime   season\n",
       "155 1.24       116      2024-07-19 15:00:00 Summer\n",
       "156 2.21       119      2024-07-19 18:00:00 Summer\n",
       "157 1.93       117      2024-07-19 21:00:00 Summer\n",
       "158 3.42       152      2024-07-20 00:00:00 Summer\n",
       "159 3.04       164      2024-07-20 03:00:00 Summer\n",
       "160 2.78       180      2024-07-20 06:00:00 Summer"
      ]
     },
     "metadata": {},
     "output_type": "display_data"
    }
   ],
   "source": [
    "tail(cities_weather_df)"
   ]
  },
  {
   "cell_type": "code",
   "execution_count": 97,
   "metadata": {},
   "outputs": [],
   "source": [
    "# Write cities_weather_df to `cities_weather_forecast.csv`\n",
    "write.csv(cities_weather_df, \"cities_weather_forecast.csv\", row.names=FALSE)"
   ]
  },
  {
   "cell_type": "markdown",
   "metadata": {},
   "source": [
    "For more details about HTTP requests with `httr`, please refer to the previous HTTP request notebook here: \n",
    "\n",
    "[HTTP request in R](https://cf-courses-data.s3.us.cloud-object-storage.appdomain.cloud/IBMDeveloperSkillsNetwork-RP0101EN-Coursera/v2/M4_Working_With_Data/lab2_jupyter_http-request.ipynb)\n"
   ]
  },
  {
   "cell_type": "markdown",
   "metadata": {},
   "source": [
    "## TASK: Download datasets as csv files from cloud storage\n"
   ]
  },
  {
   "cell_type": "markdown",
   "metadata": {},
   "source": [
    "The last task of this lab is straightforward: download some aggregated datasets from cloud storage\n"
   ]
  },
  {
   "cell_type": "code",
   "execution_count": 98,
   "metadata": {},
   "outputs": [],
   "source": [
    "# Download several datasets\n",
    "\n",
    "# Download some general city information such as name and locations\n",
    "url <- \"https://cf-courses-data.s3.us.cloud-object-storage.appdomain.cloud/IBMDeveloperSkillsNetwork-RP0321EN-SkillsNetwork/labs/datasets/raw_worldcities.csv\"\n",
    "# download the file\n",
    "download.file(url, destfile = \"raw_worldcities.csv\")\n",
    "\n",
    "# Download a specific hourly Seoul bike sharing demand dataset\n",
    "url <- \"https://cf-courses-data.s3.us.cloud-object-storage.appdomain.cloud/IBMDeveloperSkillsNetwork-RP0321EN-SkillsNetwork/labs/datasets/raw_seoul_bike_sharing.csv\"\n",
    "# download the file\n",
    "download.file(url, destfile = \"raw_seoul_bike_sharing.csv\")"
   ]
  },
  {
   "cell_type": "markdown",
   "metadata": {},
   "source": [
    "## Next Step\n"
   ]
  },
  {
   "cell_type": "markdown",
   "metadata": {},
   "source": [
    "Now you should collect all datasets required for this project, all in csv format. Feel free to explore them preliminarily now. However, they are the raw datasets and have to be processed for further data visualization or data analysis.\n",
    "\n",
    "In the next module, you will improve their quality by performing data wrangling tasks.\n"
   ]
  },
  {
   "cell_type": "markdown",
   "metadata": {},
   "source": [
    "## Authors\n",
    "\n",
    "<a href=\"https://www.linkedin.com/in/yan-luo-96288783/\" target=\"_blank\">Yan Luo</a>\n"
   ]
  },
  {
   "cell_type": "markdown",
   "metadata": {},
   "source": [
    "### Other Contributors\n"
   ]
  },
  {
   "cell_type": "markdown",
   "metadata": {},
   "source": [
    "## Change Log\n",
    "\n",
    "| Date (YYYY-MM-DD) | Version | Changed By | Change Description           |\n",
    "| ----------------- | ------- | ---------- | ---------------------------- |\n",
    "| 2021-04-05        | 0.1     | Yan        | Initial version created      |\n",
    "|                   |         |            |                              |\n",
    "|                   |         |            |                              |\n",
    "\n",
    "## <h3 align=\"center\"> © IBM Corporation 2021. All rights reserved. <h3/>\n"
   ]
  }
 ],
 "metadata": {
  "kernelspec": {
   "display_name": "R",
   "language": "R",
   "name": "conda-env-r-r"
  },
  "language_info": {
   "codemirror_mode": "r",
   "file_extension": ".r",
   "mimetype": "text/x-r-source",
   "name": "R",
   "pygments_lexer": "r",
   "version": "3.5.1"
  }
 },
 "nbformat": 4,
 "nbformat_minor": 4
}
